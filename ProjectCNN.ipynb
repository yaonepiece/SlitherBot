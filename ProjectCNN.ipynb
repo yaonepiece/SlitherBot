{
 "cells": [
  {
   "cell_type": "code",
   "execution_count": 2,
   "metadata": {},
   "outputs": [
    {
     "name": "stdout",
     "output_type": "stream",
     "text": [
      "Start building network\n",
      "Network built.\n",
      "Initial loss: 18039.795\n",
      "Start training... total round = 1000\n",
      "Epoch 50 completed, loss=807.1893\n",
      "Epoch 100 completed, loss=3.9737298\n",
      "Epoch 150 completed, loss=0.019019011\n",
      "Epoch 200 completed, loss=0.000109648376\n",
      "Epoch 250 completed, loss=5.68843e-07\n",
      "Epoch 300 completed, loss=3.013148e-09\n",
      "Epoch 350 completed, loss=6.683401\n",
      "Epoch 400 completed, loss=0.11095326\n",
      "Epoch 450 completed, loss=0.0011871638\n",
      "Epoch 500 completed, loss=13.238415\n",
      "Epoch 550 completed, loss=2.7160504\n",
      "Epoch 600 completed, loss=22.7778\n",
      "Epoch 650 completed, loss=16.738445\n",
      "Epoch 700 completed, loss=2.199925\n",
      "Epoch 750 completed, loss=0.022223799\n",
      "Epoch 800 completed, loss=12.734135\n",
      "Epoch 850 completed, loss=6.2880774\n",
      "Epoch 900 completed, loss=0.28050035\n",
      "Epoch 950 completed, loss=5.134034\n",
      "Epoch 1000 completed, loss=0.35589898\n",
      "Train complete\n",
      "Loss:\n",
      "0.35589898\n"
     ]
    }
   ],
   "source": [
    "import screencapture as sc\n",
    "\n",
    "import tensorflow as tf\n",
    "import numpy as np\n",
    "from PIL import ImageGrab\n",
    "import cv2, os, time, select\n",
    "\n",
    "\n",
    "def network(x):\n",
    "    linear = tf.layers.flatten(x)\n",
    "    with tf.name_scope(\"Eyes\"):\n",
    "        enc1 = tf.layers.dense(linear, 16*16*4)\n",
    "        enc2 = tf.layers.dense(enc1, 8*8*4)\n",
    "        enc3 = tf.layers.dense(enc2, 4*4*4)\n",
    "    with tf.name_scope(\"Brain\"):\n",
    "        dec1 = tf.layers.dense(enc3, 64*64*4)\n",
    "    loss = tf.losses.mean_squared_error(labels=linear, predictions=dec1)\n",
    "    train = tf.train.AdamOptimizer(0.0001).minimize(loss)\n",
    "    return enc3, dec1, loss, train\n",
    "\n",
    "\n",
    "scap=sc.ScreenCapturer(960,540,64,64)\n",
    "round = 1000\n",
    "\n",
    "with tf.Session() as sess:\n",
    "    for i in range(4):\n",
    "        screen=scap.get_gray()\n",
    "        scap.save_pic(screen)\n",
    "\n",
    "    scr_tf = [np.transpose(scap.screen_data, (1,2,0))]\n",
    "    print('Start building network')\n",
    "    x = tf.placeholder(tf.float64, shape=(None, 64, 64, 4))\n",
    "    encoder, decoder, loss, train = network(x)\n",
    "    img_tensor=tf.reshape(decoder,[-1,4,4,3])\n",
    "    print('Network built.')\n",
    "    sess.run(tf.initializers.global_variables())\n",
    "    loss_ = sess.run(loss, {x: scr_tf})\n",
    "    print('Initial loss: ',end='')\n",
    "    print(loss_)\n",
    "    print('Start training... total round = {0}'.format(round))\n",
    "\n",
    "    for epoch in range(round):\n",
    "        sess.run(train, {x:scr_tf})\n",
    "        loss_=sess.run(loss, {x: scr_tf})\n",
    "        if (epoch+1)%50 == 0:\n",
    "            print('Epoch {0} completed, loss='.format(epoch+1),end='')\n",
    "            print(loss_)\n",
    "            \n",
    "    print('Train complete')\n",
    "    loss_ = sess.run(loss, {x: scr_tf})\n",
    "    print('Loss:')\n",
    "    print(loss_)"
   ]
  },
  {
   "cell_type": "code",
   "execution_count": null,
   "metadata": {},
   "outputs": [],
   "source": []
  }
 ],
 "metadata": {
  "kernelspec": {
   "display_name": "Python 3",
   "language": "python",
   "name": "python3"
  },
  "language_info": {
   "codemirror_mode": {
    "name": "ipython",
    "version": 3
   },
   "file_extension": ".py",
   "mimetype": "text/x-python",
   "name": "python",
   "nbconvert_exporter": "python",
   "pygments_lexer": "ipython3",
   "version": "3.6.7"
  }
 },
 "nbformat": 4,
 "nbformat_minor": 2
}
